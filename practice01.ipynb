{
 "cells": [
  {
   "cell_type": "code",
   "execution_count": 1,
   "metadata": {
    "scrolled": true
   },
   "outputs": [],
   "source": [
    "%matplotlib inline\n",
    "import numpy as np\n",
    "import matplotlib.pyplot as plt\n",
    "import pandas as pd"
   ]
  },
  {
   "cell_type": "code",
   "execution_count": 2,
   "metadata": {},
   "outputs": [
    {
     "name": "stdout",
     "output_type": "stream",
     "text": [
      "請輸入雞的數量：1\n",
      "請輸入兔子的數量：2\n",
      "總共有幾隻腳： 10\n"
     ]
    }
   ],
   "source": [
    "#第一題：如果雞和免子關在同一籠,請問共有幾隻腳? 請使用兩個input指令取得雞和免的數目,並顯示答案. 提示 a=input('雞的數目= ')\n",
    "x = int(input('請輸入雞的數量：'))\n",
    "y = int(input('請輸入兔子的數量：'))\n",
    "z = x*2+y*4\n",
    "print('總共有幾隻腳：',z)"
   ]
  },
  {
   "cell_type": "code",
   "execution_count": 3,
   "metadata": {},
   "outputs": [
    {
     "name": "stdout",
     "output_type": "stream",
     "text": [
      "請輸入書本數量：4\n",
      "小明還剩： 14\n"
     ]
    }
   ],
   "source": [
    "#第二題：小明有50元零花錢，他買了3本書，每本9元。他還剩多少元？請使用一個input指令取得書本數量. 請顯示答案.\n",
    "a = int(input('請輸入書本數量：'))\n",
    "b = 50-9*a\n",
    "print('小明還剩：', b)"
   ]
  },
  {
   "cell_type": "code",
   "execution_count": 4,
   "metadata": {},
   "outputs": [
    {
     "name": "stdout",
     "output_type": "stream",
     "text": [
      "請輸入蜂蜜箱量：3\n",
      "一年的蜂蜜有幾克: 225.0\n"
     ]
    }
   ],
   "source": [
    "#第三題：如果 5箱蜜蜂一年可以取得375克蜂蜜。假設養了這樣的蜜蜂12箱，一年大約可以取得多少克蜂蜜？請使用一個input指令取得蜜蜂的箱量. 請顯示答案.\n",
    "q = int(input('請輸入蜂蜜箱量：'))\n",
    "w = 375*q/5\n",
    "print('一年的蜂蜜有幾克:',w)\n",
    "\n"
   ]
  },
  {
   "cell_type": "code",
   "execution_count": 5,
   "metadata": {},
   "outputs": [
    {
     "name": "stdout",
     "output_type": "stream",
     "text": [
      "請輸入玻璃長：8\n",
      "請輸入玻璃寬：5\n",
      "請輸入玻璃高：6\n",
      "面積為： 236\n",
      "總共需要多少錢： 708\n"
     ]
    }
   ],
   "source": [
    "#第四題：請問到製作一個長方體的沒有加蓋子的金魚缸，長是8公尺，寬是5公尺，高是6公尺，所需玻璃的面積是多少平方公尺？如果每一平方公尺是3元,需要花多少錢? 請顯示答案\n",
    "s = float(input('請輸入玻璃長：'))\n",
    "d = float(input('請輸入玻璃寬：'))\n",
    "g = float(input('請輸入玻璃高：'))\n",
    "h = (s*d+d*g+s*g)*2\n",
    "print('面積為：',h)\n",
    "j = h*3\n",
    "print('總共需要多少錢：', j)\n"
   ]
  },
  {
   "cell_type": "code",
   "execution_count": 6,
   "metadata": {},
   "outputs": [
    {
     "name": "stdout",
     "output_type": "stream",
     "text": [
      "牆壁高度：4\n",
      "蝸牛第幾天到頂端： 2\n"
     ]
    }
   ],
   "source": [
    "#第五題：一隻蝸牛爬二面不同高度的牆壁,白天爬3公尺,由於晚上要睡覺滑下來2公尺,問它幾天能爬到頂端? \n",
    "c = int(input('牆壁高度：'))\n",
    "v = c-2\n",
    "\n",
    "if v>=0:\n",
    "    print('蝸牛第幾天到頂端：', v)\n",
    "else:\n",
    "    print('蝸牛第幾天到頂端：', 1)\n"
   ]
  },
  {
   "cell_type": "code",
   "execution_count": null,
   "metadata": {},
   "outputs": [],
   "source": []
  },
  {
   "cell_type": "code",
   "execution_count": null,
   "metadata": {},
   "outputs": [],
   "source": []
  },
  {
   "cell_type": "markdown",
   "metadata": {},
   "source": []
  }
 ],
 "metadata": {
  "kernelspec": {
   "display_name": "Python 3",
   "language": "python",
   "name": "python3"
  },
  "language_info": {
   "codemirror_mode": {
    "name": "ipython",
    "version": 3
   },
   "file_extension": ".py",
   "mimetype": "text/x-python",
   "name": "python",
   "nbconvert_exporter": "python",
   "pygments_lexer": "ipython3",
   "version": "3.7.3"
  }
 },
 "nbformat": 4,
 "nbformat_minor": 2
}
