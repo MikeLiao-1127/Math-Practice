{
 "cells": [
  {
   "cell_type": "code",
   "execution_count": 15,
   "metadata": {},
   "outputs": [
    {
     "name": "stdout",
     "output_type": "stream",
     "text": [
      "請輸入溫度：15\n",
      "適中\n"
     ]
    }
   ],
   "source": [
    "#第一題：請用 if 指令寫一程式可將使用者所輸入的數值溫度轉換成”熱”,\n",
    "#”適中”,”冷”三個等級。轉換標準為:大於等於25度為”熱”, 24-10度為”適中”,低於10度為”冷”.\n",
    "x = int(input('請輸入溫度：'))\n",
    "if x>=25:\n",
    "    print('熱')\n",
    "elif x>=10 and x<25:\n",
    "    print('適中')\n",
    "else:\n",
    "    print('冷')"
   ]
  },
  {
   "cell_type": "code",
   "execution_count": 21,
   "metadata": {},
   "outputs": [
    {
     "name": "stdout",
     "output_type": "stream",
     "text": [
      "請輸入分數：92\n",
      "A\n"
     ]
    }
   ],
   "source": [
    "#第二題：請用 if 指令寫一程式，讓使用者輸入分數,並將分數制(0~100分)轉換成等級制(A+,A, B, C, D, F)\n",
    "x = int(input('請輸入分數：'))\n",
    "if x==100:\n",
    "    print('A+')\n",
    "elif 90 <= x <= 99:\n",
    "    print('A')\n",
    "elif x>=80 and x<=89:\n",
    "    print('B')\n",
    "elif x>=70 and x<=79:\n",
    "    print('C')\n",
    "elif x>=60 and x<=69:\n",
    "    print('D')\n",
    "else:\n",
    "    print('不及格')"
   ]
  },
  {
   "cell_type": "code",
   "execution_count": 23,
   "metadata": {},
   "outputs": [
    {
     "name": "stdout",
     "output_type": "stream",
     "text": [
      "請輸入國文成績：77\n",
      "請輸入英文成績：89\n",
      "83.0\n",
      "真不錯！\n"
     ]
    }
   ],
   "source": [
    "#第三題：請寫一個程式讓使用者得以輸入的國文和英文二科成績(例如 [100  80] )，\n",
    "#並依這二科計算出來的這個平均成績的分數範圍給評語\n",
    "x = int(input('請輸入國文成績：'))\n",
    "y = int(input('請輸入英文成績：'))\n",
    "z = (x+y)/2\n",
    "print(z)\n",
    "if 80<=z<=100:\n",
    "    print('真不錯！')\n",
    "elif 60<=z<=79:\n",
    "    print('還好！')\n",
    "else:\n",
    "    print('你好像沒空唸書！')"
   ]
  },
  {
   "cell_type": "code",
   "execution_count": 24,
   "metadata": {},
   "outputs": [
    {
     "name": "stdout",
     "output_type": "stream",
     "text": [
      "請輸入期中考成績：78\n",
      "請輸入期末考成績：60\n",
      "及格\n",
      "及格\n"
     ]
    }
   ],
   "source": [
    "#第四題：請寫一個程式可讀取使用者輸入的會計課的期中考和期末考成績(例如 [100  80] )，\n",
    "#並判斷是否”及格”或”不及格”的結果。及格的條件為平均分數高於60分，或是期末考成績60以上亦可及格。\n",
    "x = float(input('請輸入期中考成績：'))\n",
    "y = float(input('請輸入期末考成績：'))\n",
    "if x>=60:\n",
    "    "
   ]
  },
  {
   "cell_type": "code",
   "execution_count": null,
   "metadata": {},
   "outputs": [],
   "source": [
    "#第五題：請寫一個程式可審查工作應徵者的資格。如果是男生必須己服完兵役,\n",
    "#如果是女生,必須有二年的工作經驗.請參考以下的結果.\n",
    "x = input('請輸入性別：（男性或女性）')\n",
    "if x == '男性':\n",
    "    y = input('請輸入是否已服完兵役：(是或否)')\n",
    "    if y == '是':\n",
    "        print('恭喜你，你的資格符合')\n",
    "    elif y =='否':\n",
    "        print('你不符合資格')\n",
    "    else:\n",
    "        print('請重新輸入')\n",
    "          \n",
    "elif x == '女性':\n",
    "    z = input('請問你工作有滿兩年嗎？（是或否）')\n",
    "    if z =='是':\n",
    "        print('恭喜你，你的資格符合')\n",
    "    elif z=='否':\n",
    "        print('你不符合資格')\n",
    "    else:\n",
    "        print('請重新輸入')\n",
    "    \n",
    "else:\n",
    "    print('請輸入正確性別')\n",
    "    \n",
    "\n"
   ]
  },
  {
   "cell_type": "code",
   "execution_count": 8,
   "metadata": {},
   "outputs": [
    {
     "name": "stdout",
     "output_type": "stream",
     "text": [
      "請輸入（剪刀、石頭、布）：剪刀\n",
      "電腦出了 石頭\n",
      "你輸了\n"
     ]
    }
   ],
   "source": [
    "#第六題：(1) 寫一個使用者先出拳，與電腦玩剪刀、石頭、布的遊戲。\n",
    "#(2) 再設計另一個程式讓電腦每次都贏。(提示:可考慮使用rand( )函數)\n",
    "import random\n",
    "you = input('請輸入（剪刀、石頭、布）：')\n",
    "computer = random.choice(['剪刀','石頭','布'])\n",
    "print('電腦出了', computer)\n",
    "\n",
    "if  you == computer:\n",
    "    print('平手')\n",
    "    \n",
    "elif you == '剪刀':\n",
    "    if computer == '石頭':\n",
    "        print('你輸了')\n",
    "    elif computer == '布':\n",
    "        print('你贏了')\n",
    "        \n",
    "elif you == '石頭':\n",
    "    if computer == '剪刀':\n",
    "        print('你贏了')\n",
    "    elif computer == '布':\n",
    "        print('你輸了')\n",
    "        \n",
    "elif you == '布':\n",
    "    if computer == '石頭':\n",
    "        print('你贏了')\n",
    "    elif computer == '剪刀':\n",
    "        print('你輸了')"
   ]
  },
  {
   "cell_type": "code",
   "execution_count": null,
   "metadata": {},
   "outputs": [
    {
     "name": "stdout",
     "output_type": "stream",
     "text": [
      "請輸入剪刀/石頭/布/結束：我是誒\n",
      "請再輸入一次\n",
      "請輸入剪刀/石頭/布/結束：剪刀\n",
      "電腦出了 布\n",
      "你贏了\n",
      "請輸入剪刀/石頭/布/結束：剪刀\n",
      "電腦出了 剪刀\n",
      "平手唷\n",
      "請輸入剪刀/石頭/布/結束：石頭\n",
      "電腦出了 布\n",
      "你輸了\n"
     ]
    }
   ],
   "source": [
    "import random\n",
    "while True:\n",
    "    you = input('請輸入剪刀/石頭/布/結束：')\n",
    "    if you == '剪刀' or you =='石頭' or you == '布' or you == '結束':\n",
    "        computer = random.choice(['剪刀','石頭','布'])\n",
    "        print('電腦出了', computer)\n",
    "        if you == '結束':\n",
    "            break\n",
    "        elif you == computer :\n",
    "            print('平手唷')\n",
    "        elif you =='剪刀':\n",
    "            if computer == '石頭':\n",
    "                print('你輸了')\n",
    "            elif computer == '布':\n",
    "                print('你贏了')\n",
    "        elif you == '石頭':\n",
    "            if computer == '剪刀':\n",
    "                print('你贏了')\n",
    "            elif computer == '布':\n",
    "                print('你輸了')\n",
    "        elif you == '布':\n",
    "            if computer == '剪刀':\n",
    "                print('你輸了')\n",
    "            elif computer == '石頭':\n",
    "                print('你贏了')\n",
    "    else:\n",
    "        print('請再輸入一次')\n",
    "     \n",
    "        \n",
    "\n",
    "\n"
   ]
  },
  {
   "cell_type": "code",
   "execution_count": 14,
   "metadata": {},
   "outputs": [
    {
     "name": "stdout",
     "output_type": "stream",
     "text": [
      "請輸入（剪刀、石頭、布）：石頭\n",
      "電腦出了：布，你輸了\n"
     ]
    }
   ],
   "source": [
    "import random \n",
    "you = input('請輸入（剪刀、石頭、布）：')\n",
    "\n",
    "if you == '剪刀':\n",
    "    computer = '石頭'\n",
    "    print(str('電腦出了：')+ computer + str('，你輸了'))\n",
    "elif you == '石頭':\n",
    "    computer = '布'\n",
    "    print(str('電腦出了：')+ computer + str('，你輸了'))\n",
    "elif you == '布':\n",
    "    computer ='剪刀'\n",
    "    print(str('電腦出了：')+ computer + str('，你輸了'))\n",
    "    "
   ]
  },
  {
   "cell_type": "code",
   "execution_count": null,
   "metadata": {},
   "outputs": [],
   "source": []
  }
 ],
 "metadata": {
  "kernelspec": {
   "display_name": "Python 3",
   "language": "python",
   "name": "python3"
  },
  "language_info": {
   "codemirror_mode": {
    "name": "ipython",
    "version": 3
   },
   "file_extension": ".py",
   "mimetype": "text/x-python",
   "name": "python",
   "nbconvert_exporter": "python",
   "pygments_lexer": "ipython3",
   "version": "3.7.3"
  }
 },
 "nbformat": 4,
 "nbformat_minor": 2
}
